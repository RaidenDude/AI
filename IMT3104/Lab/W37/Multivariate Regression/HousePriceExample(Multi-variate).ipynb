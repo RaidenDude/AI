{
 "cells": [
  {
   "cell_type": "code",
   "execution_count": 1,
   "metadata": {},
   "outputs": [
    {
     "name": "stdout",
     "output_type": "stream",
     "text": [
      "First 3 examples from the dataset:\n",
      "\n",
      "x = [area bedrooms ->] [ 2104.     3.] , y = 399900.0\n",
      "x = [area bedrooms ->] [ 1600.     3.] , y = 329900.0\n",
      "x = [area bedrooms ->] [ 2400.     3.] , y = 369000.0\n"
     ]
    }
   ],
   "source": [
    "import numpy as np\n",
    "\n",
    "\n",
    "data = np.loadtxt(open(\"ex1data2.txt\", \"r\"), delimiter=\",\")\n",
    "X = data[:, 0:2] #Reading two features from the input file i.e. the area in squre feet and the number of bedrooms\n",
    "y = data[:, 2]   #labels in the form of price of houses\n",
    "m = len(y)\n",
    "\n",
    "# Print out some data points\n",
    "print ('First 3 examples from the dataset:\\n',)\n",
    "for i in range(3):\n",
    "    print ('x = [area bedrooms ->]', X[i, ], ', y =', y[i])"
   ]
  },
  {
   "cell_type": "code",
   "execution_count": 2,
   "metadata": {},
   "outputs": [],
   "source": [
    "def feature_normalize(X):\n",
    "    \"\"\"\n",
    "    Normalizes the features in x.\n",
    "\n",
    "    Parameters\n",
    "    ----------\n",
    "    X : ndarray, shape (n_samples, n_features)\n",
    "        Features to be normalized.\n",
    "\n",
    "    Returns\n",
    "    -------\n",
    "    X_norm : ndarray, shape (n_samples, n_features)\n",
    "        A normalized version of X where the mean value of each feature is 0 and the standard deviation is 1.\n",
    "    mu : ndarray, shape (n_features,)\n",
    "        The mean value.\n",
    "    sigma : ndarray, shape (n_features,)\n",
    "        The standard deviation.\n",
    "    \"\"\"\n",
    "    mu = np.mean(X, axis=0)\n",
    "    sigma = np.std(X, axis=0, ddof=1)\n",
    "    X_norm = (X - mu) / sigma\n",
    "    return X_norm, mu, sigma"
   ]
  },
  {
   "cell_type": "code",
   "execution_count": 3,
   "metadata": {},
   "outputs": [
    {
     "name": "stdout",
     "output_type": "stream",
     "text": [
      "First 3 normalized examples from the dataset:\n",
      "\n",
      "x = [Constant area bedrooms ->] [ 1.          0.13000987 -0.22367519] , y = 399900.0\n",
      "x = [Constant area bedrooms ->] [ 1.         -0.50418984 -0.22367519] , y = 329900.0\n",
      "x = [Constant area bedrooms ->] [ 1.          0.50247636 -0.22367519] , y = 369000.0\n"
     ]
    }
   ],
   "source": [
    "X, mu, sigma = feature_normalize(X)\n",
    "X = np.hstack((np.ones((m, 1)), X))\n",
    "#print(X)\n",
    "print ('First 3 normalized examples from the dataset:\\n',)\n",
    "for i in range(3):\n",
    "    print ('x = [Constant area bedrooms ->]', X[i, ], ', y =', y[i])"
   ]
  },
  {
   "cell_type": "code",
   "execution_count": null,
   "metadata": {},
   "outputs": [],
   "source": [
    "# Choose the learning rate alpha \n",
    "alpha = 0.1\n",
    "num_iters = 50\n",
    "\n",
    "# Init Beta and run gradient descent\n",
    "beta = np.zeros(3) #(B_0, B_1, B_2)"
   ]
  },
  {
   "cell_type": "code",
   "execution_count": null,
   "metadata": {},
   "outputs": [],
   "source": [
    "def compute_cost_multi(X, y, beta):\n",
    "    \"\"\"\n",
    "    Compute cost for linear regression with multiple variables.\n",
    "\n",
    "    Parameters\n",
    "    ----------\n",
    "    X : ndarray, shape (n_samples, n_features)\n",
    "        Training data, where n_samples is the number of samples and n_features is the number of features.\n",
    "    y : ndarray, shape (n_samples,)\n",
    "        Labels.\n",
    "    beta : ndarray, shape (n_features,)\n",
    "        Linear regression parameter.\n",
    "\n",
    "    Returns\n",
    "    -------\n",
    "    J : numpy.float64\n",
    "        The cost of using beta as the parameter for linear regression to fit the data points in X and y.\n",
    "    \"\"\"\n",
    "    m = len(y)\n",
    "    diff = X.dot(beta) - y\n",
    "    J = 1.0 / (2 * m) * diff.T.dot(diff)\n",
    "    return J"
   ]
  },
  {
   "cell_type": "code",
   "execution_count": null,
   "metadata": {},
   "outputs": [],
   "source": [
    "def gradient_descent_multi(X, y, beta, alpha, num_iters):\n",
    "    \"\"\"\n",
    "    Performs gradient descent to learn beta.\n",
    "\n",
    "    Parameters\n",
    "    ----------\n",
    "    X : ndarray, shape (n_samples, n_features)\n",
    "        Training data, where n_samples is the number of samples and n_features is the number of features.\n",
    "    y : ndarray, shape (n_samples,)\n",
    "        Labels.\n",
    "    beta : ndarray, shape (n_features,)\n",
    "        Initial linear regression parameter.\n",
    "    alpha : float\n",
    "        Learning rate.\n",
    "    num_iters: int\n",
    "        Number of iteration.\n",
    "\n",
    "    Returns\n",
    "    -------\n",
    "    beta : ndarray, shape (n_features,)\n",
    "        Linear regression parameter.\n",
    "    J_history: ndarray, shape (num_iters,)\n",
    "        Cost history.\n",
    "    \"\"\"\n",
    "    m = len(y)\n",
    "    J_history = np.zeros(num_iters)\n",
    "\n",
    "    for i in range(num_iters):\n",
    "        beta -= alpha / m * ((X.dot(beta) - y).T.dot(X))\n",
    "        J_history[i] = compute_cost_multi(X, y, beta)\n",
    "\n",
    "    return beta, J_history"
   ]
  },
  {
   "cell_type": "code",
   "execution_count": null,
   "metadata": {},
   "outputs": [],
   "source": [
    "beta, J_history = gradient_descent_multi(X, y, beta, alpha, num_iters)\n"
   ]
  },
  {
   "cell_type": "code",
   "execution_count": null,
   "metadata": {},
   "outputs": [],
   "source": [
    "import matplotlib.pyplot as plt\n",
    "\n",
    "\n",
    "plt.figure()\n",
    "plt.plot(range(1, num_iters + 1), J_history, color='g')\n",
    "plt.xlabel('Number of iterations')\n",
    "plt.ylabel('Cost J')\n",
    "plt.show()"
   ]
  },
  {
   "cell_type": "code",
   "execution_count": null,
   "metadata": {},
   "outputs": [],
   "source": [
    "print ('beta computed from gradient descent:')\n",
    "print (beta)"
   ]
  },
  {
   "cell_type": "code",
   "execution_count": null,
   "metadata": {},
   "outputs": [],
   "source": [
    "#Training is complete. The model can be tested with test data. "
   ]
  },
  {
   "cell_type": "code",
   "execution_count": null,
   "metadata": {},
   "outputs": [],
   "source": [
    "normalize_test_data = ((np.array([2650, 4]) - mu) / sigma)\n",
    "normalize_test_data = np.hstack((np.ones(1), normalize_test_data))\n",
    "price = normalize_test_data.dot(beta)\n",
    "print ('Predicted price of a 2650 sq-ft house with 4 rooms:', price)"
   ]
  },
  {
   "cell_type": "code",
   "execution_count": null,
   "metadata": {},
   "outputs": [],
   "source": [
    "normalize_test_data = ((np.array([5650, 6]) - mu) / sigma)\n",
    "normalize_test_data = np.hstack((np.ones(1), normalize_test_data))\n",
    "price = normalize_test_data.dot(beta)\n",
    "print ('Predicted price of a 5650 sq-ft house with 6 rooms:', price)"
   ]
  },
  {
   "cell_type": "code",
   "execution_count": null,
   "metadata": {},
   "outputs": [],
   "source": []
  }
 ],
 "metadata": {
  "kernelspec": {
   "display_name": "Python 3",
   "language": "python",
   "name": "python3"
  },
  "language_info": {
   "codemirror_mode": {
    "name": "ipython",
    "version": 3
   },
   "file_extension": ".py",
   "mimetype": "text/x-python",
   "name": "python",
   "nbconvert_exporter": "python",
   "pygments_lexer": "ipython3",
   "version": "3.5.2"
  },
  "varInspector": {
   "cols": {
    "lenName": 16,
    "lenType": 16,
    "lenVar": 40
   },
   "kernels_config": {
    "python": {
     "delete_cmd_postfix": "",
     "delete_cmd_prefix": "del ",
     "library": "var_list.py",
     "varRefreshCmd": "print(var_dic_list())"
    },
    "r": {
     "delete_cmd_postfix": ") ",
     "delete_cmd_prefix": "rm(",
     "library": "var_list.r",
     "varRefreshCmd": "cat(var_dic_list()) "
    }
   },
   "types_to_exclude": [
    "module",
    "function",
    "builtin_function_or_method",
    "instance",
    "_Feature"
   ],
   "window_display": false
  }
 },
 "nbformat": 4,
 "nbformat_minor": 2
}
